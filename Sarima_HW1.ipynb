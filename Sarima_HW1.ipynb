{
 "cells": [
  {
   "cell_type": "code",
   "execution_count": 1,
   "metadata": {},
   "outputs": [
    {
     "name": "stderr",
     "output_type": "stream",
     "text": [
      "C:\\ProgramData\\anaconda3\\lib\\site-packages\\ipykernel_launcher.py:4: FutureWarning: The pandas.core.datetools module is deprecated and will be removed in a future version. Please use the pandas.tseries module instead.\n",
      "  after removing the cwd from sys.path.\n"
     ]
    }
   ],
   "source": [
    "from pandas import read_csv\n",
    "from pandas import datetime\n",
    "from matplotlib import pyplot as plt\n",
    "from pandas.core import datetools\n",
    "from pandas import Series, DataFrame\n",
    "import pandas as pd\n",
    "from pandas.tools.plotting import autocorrelation_plot\n",
    "from statsmodels.graphics.tsaplots import plot_acf\n",
    "from statsmodels.graphics.tsaplots import plot_pacf\n",
    "import statsmodels.api as sm\n",
    "from statsmodels.tsa.arima_model import ARIMA\n",
    "from matplotlib import pyplot as plt\n"
   ]
  },
  {
   "cell_type": "markdown",
   "metadata": {},
   "source": [
    "Your goal is to study the material and apply it to Armenian GDP data provided to you. This doesn't necessarily mean that you have to apply seasonal ARIMA, you might choose to deploy ordinary ARIMA which I was presenting during the lecture. \n",
    "\n",
    "You have to submit python notebook with executable commands and the data file you have used. Use commenting options of the notebook to describe each step that you undertake to build your forecasting model. "
   ]
  },
  {
   "cell_type": "code",
   "execution_count": 2,
   "metadata": {
    "collapsed": true
   },
   "outputs": [],
   "source": [
    "#first of all lets import data\n",
    "df=pd.read_csv('au.csv')"
   ]
  },
  {
   "cell_type": "code",
   "execution_count": 3,
   "metadata": {},
   "outputs": [
    {
     "data": {
      "text/html": [
       "<div>\n",
       "<style scoped>\n",
       "    .dataframe tbody tr th:only-of-type {\n",
       "        vertical-align: middle;\n",
       "    }\n",
       "\n",
       "    .dataframe tbody tr th {\n",
       "        vertical-align: top;\n",
       "    }\n",
       "\n",
       "    .dataframe thead th {\n",
       "        text-align: right;\n",
       "    }\n",
       "</style>\n",
       "<table border=\"1\" class=\"dataframe\">\n",
       "  <thead>\n",
       "    <tr style=\"text-align: right;\">\n",
       "      <th></th>\n",
       "      <th>Date</th>\n",
       "      <th>g</th>\n",
       "    </tr>\n",
       "  </thead>\n",
       "  <tbody>\n",
       "    <tr>\n",
       "      <th>0</th>\n",
       "      <td>1/1/2010</td>\n",
       "      <td>44.0</td>\n",
       "    </tr>\n",
       "    <tr>\n",
       "      <th>1</th>\n",
       "      <td>2/1/2010</td>\n",
       "      <td>108.7</td>\n",
       "    </tr>\n",
       "    <tr>\n",
       "      <th>2</th>\n",
       "      <td>3/1/2010</td>\n",
       "      <td>119.2</td>\n",
       "    </tr>\n",
       "    <tr>\n",
       "      <th>3</th>\n",
       "      <td>4/1/2010</td>\n",
       "      <td>96.8</td>\n",
       "    </tr>\n",
       "    <tr>\n",
       "      <th>4</th>\n",
       "      <td>5/1/2010</td>\n",
       "      <td>111.4</td>\n",
       "    </tr>\n",
       "  </tbody>\n",
       "</table>\n",
       "</div>"
      ],
      "text/plain": [
       "       Date      g\n",
       "0  1/1/2010   44.0\n",
       "1  2/1/2010  108.7\n",
       "2  3/1/2010  119.2\n",
       "3  4/1/2010   96.8\n",
       "4  5/1/2010  111.4"
      ]
     },
     "execution_count": 3,
     "metadata": {},
     "output_type": "execute_result"
    }
   ],
   "source": [
    "#show the first 5 rows\n",
    "df.head()"
   ]
  },
  {
   "cell_type": "code",
   "execution_count": 4,
   "metadata": {
    "collapsed": true
   },
   "outputs": [],
   "source": [
    "#delete the index column and make the date index\n",
    "dates = pd.period_range(start='1/1/2010', end='1/1/2018', freq='M')\n",
    "df.set_index('Date',inplace=True)"
   ]
  },
  {
   "cell_type": "code",
   "execution_count": 5,
   "metadata": {},
   "outputs": [
    {
     "data": {
      "text/html": [
       "<div>\n",
       "<style scoped>\n",
       "    .dataframe tbody tr th:only-of-type {\n",
       "        vertical-align: middle;\n",
       "    }\n",
       "\n",
       "    .dataframe tbody tr th {\n",
       "        vertical-align: top;\n",
       "    }\n",
       "\n",
       "    .dataframe thead th {\n",
       "        text-align: right;\n",
       "    }\n",
       "</style>\n",
       "<table border=\"1\" class=\"dataframe\">\n",
       "  <thead>\n",
       "    <tr style=\"text-align: right;\">\n",
       "      <th></th>\n",
       "      <th>g</th>\n",
       "    </tr>\n",
       "    <tr>\n",
       "      <th>Date</th>\n",
       "      <th></th>\n",
       "    </tr>\n",
       "  </thead>\n",
       "  <tbody>\n",
       "    <tr>\n",
       "      <th>1/1/2010</th>\n",
       "      <td>44.0</td>\n",
       "    </tr>\n",
       "    <tr>\n",
       "      <th>2/1/2010</th>\n",
       "      <td>108.7</td>\n",
       "    </tr>\n",
       "    <tr>\n",
       "      <th>3/1/2010</th>\n",
       "      <td>119.2</td>\n",
       "    </tr>\n",
       "    <tr>\n",
       "      <th>4/1/2010</th>\n",
       "      <td>96.8</td>\n",
       "    </tr>\n",
       "    <tr>\n",
       "      <th>5/1/2010</th>\n",
       "      <td>111.4</td>\n",
       "    </tr>\n",
       "  </tbody>\n",
       "</table>\n",
       "</div>"
      ],
      "text/plain": [
       "              g\n",
       "Date           \n",
       "1/1/2010   44.0\n",
       "2/1/2010  108.7\n",
       "3/1/2010  119.2\n",
       "4/1/2010   96.8\n",
       "5/1/2010  111.4"
      ]
     },
     "execution_count": 5,
     "metadata": {},
     "output_type": "execute_result"
    }
   ],
   "source": [
    "df.head()"
   ]
  },
  {
   "cell_type": "code",
   "execution_count": 6,
   "metadata": {},
   "outputs": [
    {
     "data": {
      "image/png": "[encoded data removed]",
      "text/plain": [
       "<matplotlib.figure.Figure at 0x20ff5f3cf60>"
      ]
     },
     "execution_count": 6,
     "metadata": {},
     "output_type": "execute_result"
    },
    {
     "data": {
      "image/png": "[encoded data removed]",
      "text/plain": [
       "<matplotlib.figure.Figure at 0x20ff5f3cf60>"
      ]
     },
     "metadata": {},
     "output_type": "display_data"
    }
   ],
   "source": [
    "#to plot autocorrelation function for 24 lags\n",
    "from pandas.tools.plotting import autocorrelation_plot\n",
    "from statsmodels.graphics.tsaplots import plot_pacf\n",
    "plot_acf(df['g'],lags=24)"
   ]
  },
  {
   "cell_type": "code",
   "execution_count": 7,
   "metadata": {},
   "outputs": [
    {
     "data": {
      "text/html": [
       "<div>\n",
       "<style scoped>\n",
       "    .dataframe tbody tr th:only-of-type {\n",
       "        vertical-align: middle;\n",
       "    }\n",
       "\n",
       "    .dataframe tbody tr th {\n",
       "        vertical-align: top;\n",
       "    }\n",
       "\n",
       "    .dataframe thead th {\n",
       "        text-align: right;\n",
       "    }\n",
       "</style>\n",
       "<table border=\"1\" class=\"dataframe\">\n",
       "  <thead>\n",
       "    <tr style=\"text-align: right;\">\n",
       "      <th></th>\n",
       "      <th>g</th>\n",
       "      <th>dg</th>\n",
       "    </tr>\n",
       "    <tr>\n",
       "      <th>Date</th>\n",
       "      <th></th>\n",
       "      <th></th>\n",
       "    </tr>\n",
       "  </thead>\n",
       "  <tbody>\n",
       "    <tr>\n",
       "      <th>1/1/2010</th>\n",
       "      <td>44.0</td>\n",
       "      <td>NaN</td>\n",
       "    </tr>\n",
       "    <tr>\n",
       "      <th>2/1/2010</th>\n",
       "      <td>108.7</td>\n",
       "      <td>64.7</td>\n",
       "    </tr>\n",
       "    <tr>\n",
       "      <th>3/1/2010</th>\n",
       "      <td>119.2</td>\n",
       "      <td>10.5</td>\n",
       "    </tr>\n",
       "    <tr>\n",
       "      <th>4/1/2010</th>\n",
       "      <td>96.8</td>\n",
       "      <td>-22.4</td>\n",
       "    </tr>\n",
       "    <tr>\n",
       "      <th>5/1/2010</th>\n",
       "      <td>111.4</td>\n",
       "      <td>14.6</td>\n",
       "    </tr>\n",
       "  </tbody>\n",
       "</table>\n",
       "</div>"
      ],
      "text/plain": [
       "              g    dg\n",
       "Date                 \n",
       "1/1/2010   44.0   NaN\n",
       "2/1/2010  108.7  64.7\n",
       "3/1/2010  119.2  10.5\n",
       "4/1/2010   96.8 -22.4\n",
       "5/1/2010  111.4  14.6"
      ]
     },
     "execution_count": 7,
     "metadata": {},
     "output_type": "execute_result"
    }
   ],
   "source": [
    "#as it can be seen from the autocorrelation function there is seasonality. To fit a sarimax model we need a stationary data. To make the data stationary we have to find the difference\n",
    "df[\"dg\"]=df['g'].diff(periods=1)\n",
    "df.head()"
   ]
  },
  {
   "cell_type": "code",
   "execution_count": 8,
   "metadata": {},
   "outputs": [
    {
     "data": {
      "image/png": "[encoded data removed]",
      "text/plain": [
       "<matplotlib.figure.Figure at 0x20ff601b668>"
      ]
     },
     "metadata": {},
     "output_type": "display_data"
    }
   ],
   "source": [
    "#the plot shows that there is seasonality\n",
    "df['dg'].plot()\n",
    "plt.show()"
   ]
  },
  {
   "cell_type": "code",
   "execution_count": 9,
   "metadata": {},
   "outputs": [
    {
     "data": {
      "image/png": "[encoded data removed]",
      "text/plain": [
       "<matplotlib.figure.Figure at 0x20ff60e3400>"
      ]
     },
     "execution_count": 9,
     "metadata": {},
     "output_type": "execute_result"
    },
    {
     "data": {
      "image/png": "[encoded data removed]",
      "text/plain": [
       "<matplotlib.figure.Figure at 0x20ff60e3400>"
      ]
     },
     "metadata": {},
     "output_type": "display_data"
    }
   ],
   "source": [
    "df.dropna(inplace=True)\n",
    "plot_acf(df['dg'], lags=24)"
   ]
  },
  {
   "cell_type": "code",
   "execution_count": 10,
   "metadata": {},
   "outputs": [
    {
     "data": {
      "text/html": [
       "<div>\n",
       "<style scoped>\n",
       "    .dataframe tbody tr th:only-of-type {\n",
       "        vertical-align: middle;\n",
       "    }\n",
       "\n",
       "    .dataframe tbody tr th {\n",
       "        vertical-align: top;\n",
       "    }\n",
       "\n",
       "    .dataframe thead th {\n",
       "        text-align: right;\n",
       "    }\n",
       "</style>\n",
       "<table border=\"1\" class=\"dataframe\">\n",
       "  <thead>\n",
       "    <tr style=\"text-align: right;\">\n",
       "      <th></th>\n",
       "      <th>g</th>\n",
       "      <th>dg</th>\n",
       "    </tr>\n",
       "    <tr>\n",
       "      <th>Date</th>\n",
       "      <th></th>\n",
       "      <th></th>\n",
       "    </tr>\n",
       "  </thead>\n",
       "  <tbody>\n",
       "    <tr>\n",
       "      <th>2/1/2010</th>\n",
       "      <td>108.7</td>\n",
       "      <td>NaN</td>\n",
       "    </tr>\n",
       "    <tr>\n",
       "      <th>3/1/2010</th>\n",
       "      <td>119.2</td>\n",
       "      <td>NaN</td>\n",
       "    </tr>\n",
       "    <tr>\n",
       "      <th>4/1/2010</th>\n",
       "      <td>96.8</td>\n",
       "      <td>NaN</td>\n",
       "    </tr>\n",
       "    <tr>\n",
       "      <th>5/1/2010</th>\n",
       "      <td>111.4</td>\n",
       "      <td>NaN</td>\n",
       "    </tr>\n",
       "    <tr>\n",
       "      <th>6/1/2010</th>\n",
       "      <td>117.8</td>\n",
       "      <td>NaN</td>\n",
       "    </tr>\n",
       "  </tbody>\n",
       "</table>\n",
       "</div>"
      ],
      "text/plain": [
       "              g  dg\n",
       "Date               \n",
       "2/1/2010  108.7 NaN\n",
       "3/1/2010  119.2 NaN\n",
       "4/1/2010   96.8 NaN\n",
       "5/1/2010  111.4 NaN\n",
       "6/1/2010  117.8 NaN"
      ]
     },
     "execution_count": 10,
     "metadata": {},
     "output_type": "execute_result"
    }
   ],
   "source": [
    "df[\"dg\"]=df['g'].diff(periods=12)\n",
    "df.head()"
   ]
  },
  {
   "cell_type": "code",
   "execution_count": 11,
   "metadata": {},
   "outputs": [
    {
     "data": {
      "image/png": "[encoded data removed]",
      "text/plain": [
       "<matplotlib.figure.Figure at 0x20ff63830f0>"
      ]
     },
     "metadata": {},
     "output_type": "display_data"
    }
   ],
   "source": [
    "#as we can see now the data is not seasonal\n",
    "df['dg'].plot()\n",
    "plt.show()"
   ]
  },
  {
   "cell_type": "code",
   "execution_count": 12,
   "metadata": {},
   "outputs": [
    {
     "data": {
      "image/png": "[encoded data removed]",
      "text/plain": [
       "<matplotlib.figure.Figure at 0x20ff63c8ef0>"
      ]
     },
     "execution_count": 12,
     "metadata": {},
     "output_type": "execute_result"
    },
    {
     "data": {
      "image/png": "[encoded data removed]",
      "text/plain": [
       "<matplotlib.figure.Figure at 0x20ff63c8ef0>"
      ]
     },
     "metadata": {},
     "output_type": "display_data"
    }
   ],
   "source": [
    "df.dropna(inplace=True)\n",
    "plot_acf(df['dg'], lags=24)"
   ]
  },
  {
   "cell_type": "code",
   "execution_count": 13,
   "metadata": {},
   "outputs": [
    {
     "data": {
      "image/png": "[encoded data removed]",
      "text/plain": [
       "<matplotlib.figure.Figure at 0x20ff63de588>"
      ]
     },
     "execution_count": 13,
     "metadata": {},
     "output_type": "execute_result"
    },
    {
     "data": {
      "image/png": "[encoded data removed]",
      "text/plain": [
       "<matplotlib.figure.Figure at 0x20ff63de588>"
      ]
     },
     "metadata": {},
     "output_type": "display_data"
    }
   ],
   "source": [
    "df.dropna(inplace=True)\n",
    "plot_pacf(df['dg'], lags=24)"
   ]
  },
  {
   "cell_type": "code",
   "execution_count": 14,
   "metadata": {
    "collapsed": true
   },
   "outputs": [],
   "source": [
    "#Lets compare the sarimax models and their results"
   ]
  },
  {
   "cell_type": "code",
   "execution_count": 15,
   "metadata": {},
   "outputs": [
    {
     "name": "stdout",
     "output_type": "stream",
     "text": [
      "                                 Statespace Model Results                                 \n",
      "==========================================================================================\n",
      "Dep. Variable:                                  g   No. Observations:                   84\n",
      "Model:             SARIMAX(0, 1, 1)x(0, 1, 0, 12)   Log Likelihood                -187.442\n",
      "Date:                            Tue, 27 Mar 2018   AIC                            380.883\n",
      "Time:                                    18:23:55   BIC                            388.175\n",
      "Sample:                                02-01-2011   HQIC                           383.815\n",
      "                                     - 01-01-2018                                         \n",
      "Covariance Type:                              opg                                         \n",
      "==============================================================================\n",
      "                 coef    std err          z      P>|z|      [0.025      0.975]\n",
      "------------------------------------------------------------------------------\n",
      "intercept      0.0077      0.017      0.438      0.662      -0.027       0.042\n",
      "ma.L1         -1.0000    703.570     -0.001      0.999   -1379.973    1377.973\n",
      "sigma2        10.8257   7616.332      0.001      0.999   -1.49e+04    1.49e+04\n",
      "===================================================================================\n",
      "Ljung-Box (Q):                       49.90   Jarque-Bera (JB):                13.80\n",
      "Prob(Q):                              0.14   Prob(JB):                         0.00\n",
      "Heteroskedasticity (H):               3.33   Skew:                             0.70\n",
      "Prob(H) (two-sided):                  0.00   Kurtosis:                         4.65\n",
      "===================================================================================\n",
      "\n",
      "Warnings:\n",
      "[1] Covariance matrix calculated using the outer product of gradients (complex-step).\n"
     ]
    }
   ],
   "source": [
    "model=sm.tsa.statespace.SARIMAX(endog=df['g'],order=(0,1,1),seasonal_order=(0,1,0,12),trend='c',enforce_invertibility=False)\n",
    "results=model.fit()\n",
    "print(results.summary())"
   ]
  },
  {
   "cell_type": "code",
   "execution_count": 16,
   "metadata": {},
   "outputs": [
    {
     "name": "stdout",
     "output_type": "stream",
     "text": [
      "                                 Statespace Model Results                                 \n",
      "==========================================================================================\n",
      "Dep. Variable:                                  g   No. Observations:                   84\n",
      "Model:             SARIMAX(0, 1, 1)x(0, 1, 1, 12)   Log Likelihood                -184.261\n",
      "Date:                            Tue, 27 Mar 2018   AIC                            376.523\n",
      "Time:                                    18:23:55   BIC                            386.246\n",
      "Sample:                                02-01-2011   HQIC                           380.431\n",
      "                                     - 01-01-2018                                         \n",
      "Covariance Type:                              opg                                         \n",
      "==============================================================================\n",
      "                 coef    std err          z      P>|z|      [0.025      0.975]\n",
      "------------------------------------------------------------------------------\n",
      "intercept      0.0083      0.017      0.475      0.635      -0.026       0.042\n",
      "ma.L1         -1.0000    272.762     -0.004      0.997    -535.603     533.603\n",
      "ma.S.L12      -0.3710      0.160     -2.313      0.021      -0.685      -0.057\n",
      "sigma2         9.5577   2606.981      0.004      0.997   -5100.032    5119.147\n",
      "===================================================================================\n",
      "Ljung-Box (Q):                       48.76   Jarque-Bera (JB):                 5.34\n",
      "Prob(Q):                              0.16   Prob(JB):                         0.07\n",
      "Heteroskedasticity (H):               2.61   Skew:                             0.49\n",
      "Prob(H) (two-sided):                  0.02   Kurtosis:                         3.93\n",
      "===================================================================================\n",
      "\n",
      "Warnings:\n",
      "[1] Covariance matrix calculated using the outer product of gradients (complex-step).\n"
     ]
    }
   ],
   "source": [
    "model=sm.tsa.statespace.SARIMAX(endog=df['g'],order=(0,1,1),seasonal_order=(0,1,1,12),trend='c',enforce_invertibility=False)\n",
    "results=model.fit()\n",
    "print(results.summary())"
   ]
  },
  {
   "cell_type": "code",
   "execution_count": 17,
   "metadata": {},
   "outputs": [
    {
     "name": "stdout",
     "output_type": "stream",
     "text": [
      "                                 Statespace Model Results                                 \n",
      "==========================================================================================\n",
      "Dep. Variable:                                  g   No. Observations:                   84\n",
      "Model:             SARIMAX(0, 2, 1)x(0, 1, 0, 12)   Log Likelihood                -223.269\n",
      "Date:                            Tue, 27 Mar 2018   AIC                            452.539\n",
      "Time:                                    18:23:55   BIC                            459.831\n",
      "Sample:                                02-01-2011   HQIC                           455.470\n",
      "                                     - 01-01-2018                                         \n",
      "Covariance Type:                              opg                                         \n",
      "==============================================================================\n",
      "                 coef    std err          z      P>|z|      [0.025      0.975]\n",
      "------------------------------------------------------------------------------\n",
      "intercept      0.0004      0.030      0.013      0.990      -0.058       0.059\n",
      "ma.L1         -1.0000   1302.205     -0.001      0.999   -2553.275    2551.275\n",
      "sigma2        32.4710   4.23e+04      0.001      0.999   -8.28e+04    8.29e+04\n",
      "===================================================================================\n",
      "Ljung-Box (Q):                       87.56   Jarque-Bera (JB):                 4.62\n",
      "Prob(Q):                              0.00   Prob(JB):                         0.10\n",
      "Heteroskedasticity (H):               4.01   Skew:                            -0.23\n",
      "Prob(H) (two-sided):                  0.00   Kurtosis:                         4.18\n",
      "===================================================================================\n",
      "\n",
      "Warnings:\n",
      "[1] Covariance matrix calculated using the outer product of gradients (complex-step).\n"
     ]
    }
   ],
   "source": [
    "model=sm.tsa.statespace.SARIMAX(endog=df['g'],order=(0,2,1),seasonal_order=(0,1,0,12),trend='c',enforce_invertibility=False)\n",
    "results=model.fit()\n",
    "print(results.summary())"
   ]
  },
  {
   "cell_type": "code",
   "execution_count": 18,
   "metadata": {},
   "outputs": [
    {
     "name": "stdout",
     "output_type": "stream",
     "text": [
      "                                 Statespace Model Results                                 \n",
      "==========================================================================================\n",
      "Dep. Variable:                                  g   No. Observations:                   84\n",
      "Model:             SARIMAX(0, 1, 2)x(0, 1, 0, 12)   Log Likelihood                -179.828\n",
      "Date:                            Tue, 27 Mar 2018   AIC                            367.657\n",
      "Time:                                    18:23:56   BIC                            377.380\n",
      "Sample:                                02-01-2011   HQIC                           371.565\n",
      "                                     - 01-01-2018                                         \n",
      "Covariance Type:                              opg                                         \n",
      "==============================================================================\n",
      "                 coef    std err          z      P>|z|      [0.025      0.975]\n",
      "------------------------------------------------------------------------------\n",
      "intercept      0.0083      0.011      0.737      0.461      -0.014       0.030\n",
      "ma.L1         -1.4565    476.098     -0.003      0.998    -934.592     931.679\n",
      "ma.L2          0.4565    217.406      0.002      0.998    -425.652     426.565\n",
      "sigma2         8.5618   4075.451      0.002      0.998   -7979.176    7996.299\n",
      "===================================================================================\n",
      "Ljung-Box (Q):                       33.80   Jarque-Bera (JB):                 8.98\n",
      "Prob(Q):                              0.74   Prob(JB):                         0.01\n",
      "Heteroskedasticity (H):               2.67   Skew:                             0.31\n",
      "Prob(H) (two-sided):                  0.02   Kurtosis:                         4.63\n",
      "===================================================================================\n",
      "\n",
      "Warnings:\n",
      "[1] Covariance matrix calculated using the outer product of gradients (complex-step).\n"
     ]
    }
   ],
   "source": [
    "model=sm.tsa.statespace.SARIMAX(endog=df['g'],order=(0,1,2),seasonal_order=(0,1,0,12),trend='c',enforce_invertibility=False)\n",
    "results=model.fit()\n",
    "print(results.summary())"
   ]
  },
  {
   "cell_type": "code",
   "execution_count": 19,
   "metadata": {},
   "outputs": [
    {
     "name": "stdout",
     "output_type": "stream",
     "text": [
      "                                 Statespace Model Results                                 \n",
      "==========================================================================================\n",
      "Dep. Variable:                                  g   No. Observations:                   84\n",
      "Model:             SARIMAX(0, 0, 1)x(0, 1, 0, 12)   Log Likelihood                -179.476\n",
      "Date:                            Tue, 27 Mar 2018   AIC                            364.951\n",
      "Time:                                    18:23:56   BIC                            372.244\n",
      "Sample:                                02-01-2011   HQIC                           367.883\n",
      "                                     - 01-01-2018                                         \n",
      "Covariance Type:                              opg                                         \n",
      "==============================================================================\n",
      "                 coef    std err          z      P>|z|      [0.025      0.975]\n",
      "------------------------------------------------------------------------------\n",
      "intercept     -0.0640      0.226     -0.283      0.777      -0.508       0.380\n",
      "ma.L1         -0.4630      0.113     -4.107      0.000      -0.684      -0.242\n",
      "sigma2         8.5353      1.044      8.178      0.000       6.490      10.581\n",
      "===================================================================================\n",
      "Ljung-Box (Q):                       33.74   Jarque-Bera (JB):                13.29\n",
      "Prob(Q):                              0.75   Prob(JB):                         0.00\n",
      "Heteroskedasticity (H):               2.77   Skew:                             0.34\n",
      "Prob(H) (two-sided):                  0.02   Kurtosis:                         4.99\n",
      "===================================================================================\n",
      "\n",
      "Warnings:\n",
      "[1] Covariance matrix calculated using the outer product of gradients (complex-step).\n"
     ]
    }
   ],
   "source": [
    "model=sm.tsa.statespace.SARIMAX(endog=df['g'],order=(0,0,1),seasonal_order=(0,1,0,12),trend='c',enforce_invertibility=False)\n",
    "results=model.fit()\n",
    "print(results.summary())"
   ]
  },
  {
   "cell_type": "code",
   "execution_count": 20,
   "metadata": {
    "collapsed": true
   },
   "outputs": [],
   "source": [
    "from statsmodels.tsa.arima_model import ARIMA"
   ]
  },
  {
   "cell_type": "code",
   "execution_count": 21,
   "metadata": {},
   "outputs": [
    {
     "name": "stdout",
     "output_type": "stream",
     "text": [
      "                                 Statespace Model Results                                 \n",
      "==========================================================================================\n",
      "Dep. Variable:                                  g   No. Observations:                   84\n",
      "Model:             SARIMAX(0, 1, 1)x(0, 2, 0, 12)   Log Likelihood                -182.639\n",
      "Date:                            Tue, 27 Mar 2018   AIC                            371.279\n",
      "Time:                                    18:23:57   BIC                            378.571\n",
      "Sample:                                02-01-2011   HQIC                           374.210\n",
      "                                     - 01-01-2018                                         \n",
      "Covariance Type:                              opg                                         \n",
      "==============================================================================\n",
      "                 coef    std err          z      P>|z|      [0.025      0.975]\n",
      "------------------------------------------------------------------------------\n",
      "intercept      0.0072      0.033      0.218      0.827      -0.058       0.072\n",
      "ma.L1         -1.0000    895.606     -0.001      0.999   -1756.355    1754.355\n",
      "sigma2        26.6795   2.39e+04      0.001      0.999   -4.68e+04    4.69e+04\n",
      "===================================================================================\n",
      "Ljung-Box (Q):                       61.57   Jarque-Bera (JB):                11.43\n",
      "Prob(Q):                              0.02   Prob(JB):                         0.00\n",
      "Heteroskedasticity (H):               4.24   Skew:                            -0.09\n",
      "Prob(H) (two-sided):                  0.00   Kurtosis:                         5.15\n",
      "===================================================================================\n",
      "\n",
      "Warnings:\n",
      "[1] Covariance matrix calculated using the outer product of gradients (complex-step).\n"
     ]
    }
   ],
   "source": [
    "model=sm.tsa.statespace.SARIMAX(endog=df['g'],order=(0,1,1),seasonal_order=(0,2,0,12),trend='c',enforce_invertibility=False)\n",
    "results=model.fit()\n",
    "print(results.summary())"
   ]
  },
  {
   "cell_type": "code",
   "execution_count": 22,
   "metadata": {},
   "outputs": [
    {
     "name": "stdout",
     "output_type": "stream",
     "text": [
      "                                 Statespace Model Results                                 \n",
      "==========================================================================================\n",
      "Dep. Variable:                                  g   No. Observations:                   84\n",
      "Model:             SARIMAX(0, 0, 1)x(0, 2, 0, 12)   Log Likelihood                -175.247\n",
      "Date:                            Tue, 27 Mar 2018   AIC                            356.494\n",
      "Time:                                    18:23:57   BIC                            363.787\n",
      "Sample:                                02-01-2011   HQIC                           359.426\n",
      "                                     - 01-01-2018                                         \n",
      "Covariance Type:                              opg                                         \n",
      "==============================================================================\n",
      "                 coef    std err          z      P>|z|      [0.025      0.975]\n",
      "------------------------------------------------------------------------------\n",
      "intercept      0.1194      0.311      0.384      0.701      -0.490       0.729\n",
      "ma.L1         -0.4972      0.100     -4.949      0.000      -0.694      -0.300\n",
      "sigma2        20.0646      2.883      6.961      0.000      14.415      25.714\n",
      "===================================================================================\n",
      "Ljung-Box (Q):                       47.20   Jarque-Bera (JB):                 9.69\n",
      "Prob(Q):                              0.20   Prob(JB):                         0.01\n",
      "Heteroskedasticity (H):               2.86   Skew:                             0.55\n",
      "Prob(H) (two-sided):                  0.02   Kurtosis:                         4.63\n",
      "===================================================================================\n",
      "\n",
      "Warnings:\n",
      "[1] Covariance matrix calculated using the outer product of gradients (complex-step).\n"
     ]
    }
   ],
   "source": [
    "model1=sm.tsa.statespace.SARIMAX(endog=df['g'],order=(0,0,1),seasonal_order=(0,2,0,12),trend='c',enforce_invertibility=False)\n",
    "result=model1.fit()\n",
    "print(result.summary())"
   ]
  },
  {
   "cell_type": "code",
   "execution_count": 23,
   "metadata": {
    "collapsed": true
   },
   "outputs": [],
   "source": [
    "#SARIMA (0,0,1) x (0,2,0,12) has the lowest AIC indicator. "
   ]
  },
  {
   "cell_type": "code",
   "execution_count": 25,
   "metadata": {},
   "outputs": [
    {
     "data": {
      "text/plain": [
       "2018-02-01    111.155128\n",
       "2018-03-01    114.519430\n",
       "2018-04-01     96.819430\n",
       "2018-05-01    118.119430\n",
       "2018-06-01    104.219430\n",
       "2018-07-01    110.219430\n",
       "2018-08-01    113.819430\n",
       "2018-09-01    108.019430\n",
       "2018-10-01    103.919430\n",
       "Freq: MS, dtype: float64"
      ]
     },
     "execution_count": 25,
     "metadata": {},
     "output_type": "execute_result"
    }
   ],
   "source": [
    "#forecast for 9 months\n",
    "result.forecast(steps=9)"
   ]
  },
  {
   "cell_type": "code",
   "execution_count": null,
   "metadata": {
    "collapsed": true
   },
   "outputs": [],
   "source": []
  }
 ],
 "metadata": {
  "kernelspec": {
   "display_name": "Python 2",
   "language": "python",
   "name": "python2"
  },
  "language_info": {
   "codemirror_mode": {
    "name": "ipython",
    "version": 2
   },
   "file_extension": ".py",
   "mimetype": "text/x-python",
   "name": "python",
   "nbconvert_exporter": "python",
   "pygments_lexer": "ipython2",
   "version": "2.7.13"
  }
 },
 "nbformat": 4,
 "nbformat_minor": 2
}
