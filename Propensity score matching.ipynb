{
 "cells": [
  {
   "cell_type": "markdown",
   "metadata": {},
   "source": [
    "# Propensity Score Matching"
   ]
  },
  {
   "cell_type": "code",
   "execution_count": 31,
   "metadata": {
    "collapsed": true
   },
   "outputs": [],
   "source": [
    "#Import basic libariaries\n",
    "%matplotlib inline\n",
    "import math\n",
    "import numpy as np\n",
    "import scipy\n",
    "from scipy.stats import binom, hypergeom\n",
    "import pandas as pd\n",
    "import matplotlib.pyplot as plt\n",
    "from sklearn.linear_model import LogisticRegression\n",
    "import seaborn as sns"
   ]
  },
  {
   "cell_type": "markdown",
   "metadata": {},
   "source": [
    "Data from: \n",
    "\"Propensity Score Matching Methods for Non-Experimental Causal Studies,\" Review of Economics and Statistics, Vol. 84, (February 2002), pp. 151-161.\n",
    "Goal: Find the effect of training on Earnings\n",
    "\n",
    "The variables from left to right are: treatment indicator (1 if treated, 0 if not treated), age, education, Black (1 if black, 0 otherwise), Hispanic (1 if Hispanic, 0 otherwise), married (1 if married, 0 otherwise), nodegree (1 if no degree, 0 otherwise), RE74 (earnings in 1974), RE75 (earnings in 1975), and RE78 (earnings in 1978)."
   ]
  },
  {
   "cell_type": "code",
   "execution_count": 3,
   "metadata": {},
   "outputs": [
    {
     "data": {
      "text/html": [
       "<div>\n",
       "<style>\n",
       "    .dataframe thead tr:only-child th {\n",
       "        text-align: right;\n",
       "    }\n",
       "\n",
       "    .dataframe thead th {\n",
       "        text-align: left;\n",
       "    }\n",
       "\n",
       "    .dataframe tbody tr th {\n",
       "        vertical-align: top;\n",
       "    }\n",
       "</style>\n",
       "<table border=\"1\" class=\"dataframe\">\n",
       "  <thead>\n",
       "    <tr style=\"text-align: right;\">\n",
       "      <th></th>\n",
       "      <th>Treated</th>\n",
       "      <th>Age</th>\n",
       "      <th>Education</th>\n",
       "      <th>Black</th>\n",
       "      <th>Hispanic</th>\n",
       "      <th>Married</th>\n",
       "      <th>Nodegree</th>\n",
       "      <th>RE74</th>\n",
       "      <th>RE75</th>\n",
       "      <th>RE78</th>\n",
       "    </tr>\n",
       "  </thead>\n",
       "  <tbody>\n",
       "    <tr>\n",
       "      <th>0</th>\n",
       "      <td>1.0</td>\n",
       "      <td>37.0</td>\n",
       "      <td>11.0</td>\n",
       "      <td>1.0</td>\n",
       "      <td>0.0</td>\n",
       "      <td>1.0</td>\n",
       "      <td>1.0</td>\n",
       "      <td>0.0</td>\n",
       "      <td>0.0</td>\n",
       "      <td>9930.0460</td>\n",
       "    </tr>\n",
       "    <tr>\n",
       "      <th>1</th>\n",
       "      <td>1.0</td>\n",
       "      <td>22.0</td>\n",
       "      <td>9.0</td>\n",
       "      <td>0.0</td>\n",
       "      <td>1.0</td>\n",
       "      <td>0.0</td>\n",
       "      <td>1.0</td>\n",
       "      <td>0.0</td>\n",
       "      <td>0.0</td>\n",
       "      <td>3595.8940</td>\n",
       "    </tr>\n",
       "    <tr>\n",
       "      <th>2</th>\n",
       "      <td>1.0</td>\n",
       "      <td>30.0</td>\n",
       "      <td>12.0</td>\n",
       "      <td>1.0</td>\n",
       "      <td>0.0</td>\n",
       "      <td>0.0</td>\n",
       "      <td>0.0</td>\n",
       "      <td>0.0</td>\n",
       "      <td>0.0</td>\n",
       "      <td>24909.4500</td>\n",
       "    </tr>\n",
       "    <tr>\n",
       "      <th>3</th>\n",
       "      <td>1.0</td>\n",
       "      <td>27.0</td>\n",
       "      <td>11.0</td>\n",
       "      <td>1.0</td>\n",
       "      <td>0.0</td>\n",
       "      <td>0.0</td>\n",
       "      <td>1.0</td>\n",
       "      <td>0.0</td>\n",
       "      <td>0.0</td>\n",
       "      <td>7506.1460</td>\n",
       "    </tr>\n",
       "    <tr>\n",
       "      <th>4</th>\n",
       "      <td>1.0</td>\n",
       "      <td>33.0</td>\n",
       "      <td>8.0</td>\n",
       "      <td>1.0</td>\n",
       "      <td>0.0</td>\n",
       "      <td>0.0</td>\n",
       "      <td>1.0</td>\n",
       "      <td>0.0</td>\n",
       "      <td>0.0</td>\n",
       "      <td>289.7899</td>\n",
       "    </tr>\n",
       "  </tbody>\n",
       "</table>\n",
       "</div>"
      ],
      "text/plain": [
       "   Treated   Age  Education  Black  Hispanic  Married  Nodegree  RE74  RE75  \\\n",
       "0      1.0  37.0       11.0    1.0       0.0      1.0       1.0   0.0   0.0   \n",
       "1      1.0  22.0        9.0    0.0       1.0      0.0       1.0   0.0   0.0   \n",
       "2      1.0  30.0       12.0    1.0       0.0      0.0       0.0   0.0   0.0   \n",
       "3      1.0  27.0       11.0    1.0       0.0      0.0       1.0   0.0   0.0   \n",
       "4      1.0  33.0        8.0    1.0       0.0      0.0       1.0   0.0   0.0   \n",
       "\n",
       "         RE78  \n",
       "0   9930.0460  \n",
       "1   3595.8940  \n",
       "2  24909.4500  \n",
       "3   7506.1460  \n",
       "4    289.7899  "
      ]
     },
     "execution_count": 3,
     "metadata": {},
     "output_type": "execute_result"
    }
   ],
   "source": [
    "#Load the data\n",
    "names = ['Treated', 'Age', 'Education', 'Black', 'Hispanic', 'Married',\n",
    "         'Nodegree', 'RE74', 'RE75', 'RE78']\n",
    "treated = pd.read_table('nswre74_treated.txt', sep = '\\s+',\n",
    "                        header = None, names = names)\n",
    "control = pd.read_table('nswre74_control.txt', sep='\\s+', \n",
    "                        header = None, names = names)\n",
    "data = pd.concat([treated, control])\n",
    "data.head()"
   ]
  },
  {
   "cell_type": "code",
   "execution_count": 36,
   "metadata": {},
   "outputs": [
    {
     "data": {
      "text/plain": [
       "<matplotlib.axes._subplots.AxesSubplot at 0x1e1ece1dfd0>"
      ]
     },
     "execution_count": 36,
     "metadata": {},
     "output_type": "execute_result"
    },
    {
     "data": {
      "image/png": "[encoded data removed]",
      "text/plain": [
       "<matplotlib.figure.Figure at 0x1e1ecdf76a0>"
      ]
     },
     "metadata": {},
     "output_type": "display_data"
    }
   ],
   "source": [
    "data[['RE74_div', 'RE75_div', 'RE78_div']] = data[['RE74', 'RE75', 'RE78']] / 1000\n",
    "\n",
    "\n",
    "sns.kdeplot(data[data.Treated == 0].RE78_div, label='Control')\n",
    "sns.kdeplot(data[data.Treated == 1].RE78_div, label='Treatment')"
   ]
  },
  {
   "cell_type": "code",
   "execution_count": 38,
   "metadata": {},
   "outputs": [
    {
     "data": {
      "image/png": "[encoded data removed]",
      "text/plain": [
       "<matplotlib.figure.Figure at 0x1e1ed537390>"
      ]
     },
     "metadata": {},
     "output_type": "display_data"
    }
   ],
   "source": [
    "plt.hist(data[data.Treated == 0].RE78_div, label='Control', bins=50);\n",
    "plt.hist(data[data.Treated == 1].RE78_div, label='Treatment', bins=50);\n",
    "plt.legend();"
   ]
  },
  {
   "cell_type": "code",
   "execution_count": 40,
   "metadata": {},
   "outputs": [],
   "source": [
    "from causalinference import CausalModel"
   ]
  },
  {
   "cell_type": "code",
   "execution_count": 41,
   "metadata": {},
   "outputs": [
    {
     "name": "stdout",
     "output_type": "stream",
     "text": [
      "\n",
      "Summary Statistics\n",
      "\n",
      "                       Controls (N_c=260)         Treated (N_t=185)             \n",
      "       Variable         Mean         S.d.         Mean         S.d.     Raw-diff\n",
      "--------------------------------------------------------------------------------\n",
      "              Y        4.555        5.484        6.349        7.867        1.794\n",
      "\n",
      "                       Controls (N_c=260)         Treated (N_t=185)             \n",
      "       Variable         Mean         S.d.         Mean         S.d.     Nor-diff\n",
      "--------------------------------------------------------------------------------\n",
      "             X0       25.054        7.058       25.816        7.155        0.107\n",
      "             X1       10.088        1.614       10.346        2.011        0.141\n",
      "             X2        0.827        0.379        0.843        0.365        0.044\n",
      "             X3        0.108        0.311        0.059        0.237       -0.175\n",
      "             X4        0.154        0.361        0.189        0.393        0.094\n",
      "             X5        0.835        0.372        0.708        0.456       -0.304\n",
      "             X6        2.107        5.688        2.096        4.887       -0.002\n",
      "             X7        1.267        3.103        1.532        3.219        0.084\n",
      "\n",
      "\n",
      "Treatment Effect Estimates: OLS\n",
      "\n",
      "                     Est.       S.e.          z      P>|z|      [95% Conf. int.]\n",
      "--------------------------------------------------------------------------------\n",
      "           ATE      1.622      0.675      2.401      0.016      0.298      2.945\n",
      "           ATC      1.503      0.705      2.133      0.033      0.122      2.885\n",
      "           ATT      1.788      0.660      2.708      0.007      0.494      3.081\n",
      "\n",
      "Treatment Effect Estimates: Matching\n",
      "\n",
      "                     Est.       S.e.          z      P>|z|      [95% Conf. int.]\n",
      "--------------------------------------------------------------------------------\n",
      "           ATE      1.910      1.113      1.716      0.086     -0.272      4.092\n",
      "           ATC      1.788      1.273      1.405      0.160     -0.706      4.283\n",
      "           ATT      2.081      1.226      1.697      0.090     -0.322      4.484\n",
      "\n",
      "Treatment Effect Estimates: Weighting\n",
      "\n",
      "                     Est.       S.e.          z      P>|z|      [95% Conf. int.]\n",
      "--------------------------------------------------------------------------------\n",
      "           ATE      1.635      0.672      2.435      0.015      0.319      2.952\n",
      "\n",
      "\n",
      "Estimated Parameters of Propensity Score\n",
      "\n",
      "                    Coef.       S.e.          z      P>|z|      [95% Conf. int.]\n",
      "--------------------------------------------------------------------------------\n",
      "     Intercept      1.178      1.056      1.115      0.265     -0.892      3.247\n",
      "            X0      0.005      0.014      0.328      0.743     -0.023      0.033\n",
      "            X1     -0.071      0.072     -0.993      0.321     -0.212      0.069\n",
      "            X2     -0.225      0.366     -0.615      0.539     -0.941      0.492\n",
      "            X3     -0.853      0.507     -1.683      0.092     -1.846      0.140\n",
      "            X4      0.164      0.277      0.591      0.555     -0.379      0.706\n",
      "            X5     -0.904      0.313     -2.882      0.004     -1.518     -0.289\n",
      "            X6     -0.032      0.026     -1.223      0.221     -0.082      0.019\n",
      "            X7      0.062      0.044      1.414      0.157     -0.024      0.147\n",
      "\n",
      "\n",
      "Stratification Summary\n",
      "\n",
      "              Propensity Score         Sample Size     Ave. Propensity   Outcome\n",
      "   Stratum      Min.      Max.  Controls   Treated  Controls   Treated  Raw-diff\n",
      "--------------------------------------------------------------------------------\n",
      "         1     0.195     0.391       151        72     0.341     0.349     1.039\n",
      "         2     0.392     0.676       109       113     0.482     0.494     2.303\n",
      "\n"
     ]
    }
   ],
   "source": [
    "causal_model = CausalModel(\n",
    "    X=data[['Age', 'Education', 'Black', 'Hispanic', 'Married','Nodegree', 'RE74_div', 'RE75_div']].values,\n",
    "    D=data.Treated.values,\n",
    "    Y=data.RE78_div.values\n",
    ")\n",
    "causal_model.est_propensity()\n",
    "causal_model.trim_s()\n",
    "causal_model.stratify_s()\n",
    "causal_model.est_via_ols()\n",
    "causal_model.est_via_matching(bias_adj=True)\n",
    "causal_model.est_via_weighting()\n",
    "\n",
    "print(causal_model.summary_stats)\n",
    "print(causal_model.estimates)\n",
    "print(causal_model.propensity)\n",
    "print(causal_model.strata)"
   ]
  },
  {
   "cell_type": "markdown",
   "metadata": {},
   "source": [
    "# Regression discontinuity "
   ]
  },
  {
   "cell_type": "code",
   "execution_count": null,
   "metadata": {
    "collapsed": true
   },
   "outputs": [],
   "source": []
  }
 ],
 "metadata": {
  "kernelspec": {
   "display_name": "Python 3",
   "language": "python",
   "name": "python3"
  },
  "language_info": {
   "codemirror_mode": {
    "name": "ipython",
    "version": 3
   },
   "file_extension": ".py",
   "mimetype": "text/x-python",
   "name": "python",
   "nbconvert_exporter": "python",
   "pygments_lexer": "ipython3",
   "version": "3.6.3"
  }
 },
 "nbformat": 4,
 "nbformat_minor": 2
}
