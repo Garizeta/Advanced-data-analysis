{
 "cells": [
  {
   "cell_type": "markdown",
   "metadata": {},
   "source": [
    "# Propensity Score Matching"
   ]
  },
  {
   "cell_type": "code",
   "execution_count": 1,
   "metadata": {
    "collapsed": true
   },
   "outputs": [],
   "source": [
    "#Import basic libariaries\n",
    "%matplotlib inline\n",
    "import math\n",
    "import numpy as np\n",
    "import scipy\n",
    "from scipy.stats import binom, hypergeom\n",
    "import pandas as pd\n",
    "import matplotlib.pyplot as plt\n",
    "from sklearn.linear_model import LogisticRegression\n",
    "import seaborn as sns"
   ]
  },
  {
   "cell_type": "code",
   "execution_count": 4,
   "metadata": {},
   "outputs": [
    {
     "data": {
      "text/html": [
       "<div>\n",
       "<style scoped>\n",
       "    .dataframe tbody tr th:only-of-type {\n",
       "        vertical-align: middle;\n",
       "    }\n",
       "\n",
       "    .dataframe tbody tr th {\n",
       "        vertical-align: top;\n",
       "    }\n",
       "\n",
       "    .dataframe thead th {\n",
       "        text-align: right;\n",
       "    }\n",
       "</style>\n",
       "<table border=\"1\" class=\"dataframe\">\n",
       "  <thead>\n",
       "    <tr style=\"text-align: right;\">\n",
       "      <th></th>\n",
       "      <th>Treated</th>\n",
       "      <th>Age</th>\n",
       "      <th>Education</th>\n",
       "      <th>Black</th>\n",
       "      <th>Hispanic</th>\n",
       "      <th>Married</th>\n",
       "      <th>Nodegree</th>\n",
       "      <th>RE74</th>\n",
       "      <th>RE75</th>\n",
       "      <th>RE78</th>\n",
       "    </tr>\n",
       "  </thead>\n",
       "  <tbody>\n",
       "    <tr>\n",
       "      <th>0</th>\n",
       "      <td>1.0</td>\n",
       "      <td>37.0</td>\n",
       "      <td>11.0</td>\n",
       "      <td>1.0</td>\n",
       "      <td>0.0</td>\n",
       "      <td>1.0</td>\n",
       "      <td>1.0</td>\n",
       "      <td>0.0</td>\n",
       "      <td>0.0</td>\n",
       "      <td>9930.0460</td>\n",
       "    </tr>\n",
       "    <tr>\n",
       "      <th>1</th>\n",
       "      <td>1.0</td>\n",
       "      <td>22.0</td>\n",
       "      <td>9.0</td>\n",
       "      <td>0.0</td>\n",
       "      <td>1.0</td>\n",
       "      <td>0.0</td>\n",
       "      <td>1.0</td>\n",
       "      <td>0.0</td>\n",
       "      <td>0.0</td>\n",
       "      <td>3595.8940</td>\n",
       "    </tr>\n",
       "    <tr>\n",
       "      <th>2</th>\n",
       "      <td>1.0</td>\n",
       "      <td>30.0</td>\n",
       "      <td>12.0</td>\n",
       "      <td>1.0</td>\n",
       "      <td>0.0</td>\n",
       "      <td>0.0</td>\n",
       "      <td>0.0</td>\n",
       "      <td>0.0</td>\n",
       "      <td>0.0</td>\n",
       "      <td>24909.4500</td>\n",
       "    </tr>\n",
       "    <tr>\n",
       "      <th>3</th>\n",
       "      <td>1.0</td>\n",
       "      <td>27.0</td>\n",
       "      <td>11.0</td>\n",
       "      <td>1.0</td>\n",
       "      <td>0.0</td>\n",
       "      <td>0.0</td>\n",
       "      <td>1.0</td>\n",
       "      <td>0.0</td>\n",
       "      <td>0.0</td>\n",
       "      <td>7506.1460</td>\n",
       "    </tr>\n",
       "    <tr>\n",
       "      <th>4</th>\n",
       "      <td>1.0</td>\n",
       "      <td>33.0</td>\n",
       "      <td>8.0</td>\n",
       "      <td>1.0</td>\n",
       "      <td>0.0</td>\n",
       "      <td>0.0</td>\n",
       "      <td>1.0</td>\n",
       "      <td>0.0</td>\n",
       "      <td>0.0</td>\n",
       "      <td>289.7899</td>\n",
       "    </tr>\n",
       "  </tbody>\n",
       "</table>\n",
       "</div>"
      ],
      "text/plain": [
       "   Treated   Age  Education  Black  Hispanic  Married  Nodegree  RE74  RE75  \\\n",
       "0      1.0  37.0       11.0    1.0       0.0      1.0       1.0   0.0   0.0   \n",
       "1      1.0  22.0        9.0    0.0       1.0      0.0       1.0   0.0   0.0   \n",
       "2      1.0  30.0       12.0    1.0       0.0      0.0       0.0   0.0   0.0   \n",
       "3      1.0  27.0       11.0    1.0       0.0      0.0       1.0   0.0   0.0   \n",
       "4      1.0  33.0        8.0    1.0       0.0      0.0       1.0   0.0   0.0   \n",
       "\n",
       "         RE78  \n",
       "0   9930.0460  \n",
       "1   3595.8940  \n",
       "2  24909.4500  \n",
       "3   7506.1460  \n",
       "4    289.7899  "
      ]
     },
     "execution_count": 4,
     "metadata": {},
     "output_type": "execute_result"
    }
   ],
   "source": [
    "names = ['Treated', 'Age', 'Education', 'Black', 'Hispanic', 'Married',\n",
    "         'Nodegree', 'RE74', 'RE75', 'RE78']\n",
    "treated = pd.read_table('nswre74_treated.txt', sep = '\\s+',\n",
    "                        header = None, names = names)\n",
    "control = pd.read_table('psid_controls.txt', sep='\\s+', \n",
    "                        header = None, names = names)\n",
    "data = pd.concat([treated, control])\n",
    "data.head()"
   ]
  },
  {
   "cell_type": "code",
   "execution_count": 5,
   "metadata": {},
   "outputs": [
    {
     "data": {
      "text/plain": [
       "<matplotlib.axes._subplots.AxesSubplot at 0x1f636f072e8>"
      ]
     },
     "execution_count": 5,
     "metadata": {},
     "output_type": "execute_result"
    },
    {
     "data": {
      "image/png": "[encoded data removed]",
      "text/plain": [
       "<matplotlib.figure.Figure at 0x1f63ea57f98>"
      ]
     },
     "metadata": {},
     "output_type": "display_data"
    }
   ],
   "source": [
    "data[['RE74_div', 'RE75_div', 'RE78_div']] = data[['RE74', 'RE75', 'RE78']] / 1000\n",
    "\n",
    "\n",
    "sns.kdeplot(data[data.Treated == 0].RE78_div, label='Control')\n",
    "sns.kdeplot(data[data.Treated == 1].RE78_div, label='Treatment')"
   ]
  },
  {
   "cell_type": "code",
   "execution_count": 6,
   "metadata": {},
   "outputs": [
    {
     "data": {
      "image/png": "[encoded data removed]",
      "text/plain": [
       "<matplotlib.figure.Figure at 0x1f63ea57668>"
      ]
     },
     "metadata": {},
     "output_type": "display_data"
    }
   ],
   "source": [
    "plt.hist(data[data.Treated == 0].RE78_div, label='Control', bins=50);\n",
    "plt.hist(data[data.Treated == 1].RE78_div, label='Treatment', bins=50);\n",
    "plt.legend();"
   ]
  },
  {
   "cell_type": "code",
   "execution_count": 11,
   "metadata": {
    "collapsed": true
   },
   "outputs": [],
   "source": [
    "from causalinference import CausalModel"
   ]
  },
  {
   "cell_type": "code",
   "execution_count": 12,
   "metadata": {},
   "outputs": [
    {
     "name": "stdout",
     "output_type": "stream",
     "text": [
      "\n",
      "Summary Statistics\n",
      "\n",
      "                       Controls (N_c=192)         Treated (N_t=160)             \n",
      "       Variable         Mean         S.d.         Mean         S.d.     Raw-diff\n",
      "--------------------------------------------------------------------------------\n",
      "              Y        6.716       10.712        6.356        7.815       -0.360\n",
      "\n",
      "                       Controls (N_c=192)         Treated (N_t=160)             \n",
      "       Variable         Mean         S.d.         Mean         S.d.     Nor-diff\n",
      "--------------------------------------------------------------------------------\n",
      "             X0       30.109       10.872       26.375        7.076       -0.407\n",
      "             X1       10.594        3.020       10.375        2.052       -0.085\n",
      "             X2        0.724        0.448        0.838        0.370        0.276\n",
      "             X3        0.062        0.243        0.069        0.254        0.025\n",
      "             X4        0.458        0.500        0.169        0.376       -0.655\n",
      "             X5        0.615        0.488        0.700        0.460        0.180\n",
      "             X6        4.197        4.528        1.499        3.310       -0.680\n",
      "             X7        2.837        3.258        1.138        1.914       -0.636\n",
      "\n",
      "\n",
      "\n",
      "Estimated Parameters of Propensity Score\n",
      "\n",
      "                    Coef.       S.e.          z      P>|z|      [95% Conf. int.]\n",
      "--------------------------------------------------------------------------------\n",
      "     Intercept      0.637      1.180      0.540      0.589     -1.676      2.950\n",
      "            X0     -0.079      0.015     -5.345      0.000     -0.108     -0.050\n",
      "            X1      0.040      0.070      0.571      0.568     -0.097      0.176\n",
      "            X2      2.200      0.318      6.915      0.000      1.577      2.824\n",
      "            X3      2.008      0.559      3.591      0.000      0.912      3.105\n",
      "            X4     -1.627      0.263     -6.195      0.000     -2.142     -1.112\n",
      "            X5      0.774      0.353      2.194      0.028      0.083      1.466\n",
      "            X6     -0.109      0.029     -3.747      0.000     -0.166     -0.052\n",
      "            X7     -0.261      0.040     -6.466      0.000     -0.341     -0.182\n",
      "\n",
      "\n",
      "Stratification Summary\n",
      "\n",
      "              Propensity Score         Sample Size     Ave. Propensity   Outcome\n",
      "   Stratum      Min.      Max.  Controls   Treated  Controls   Treated  Raw-diff\n",
      "--------------------------------------------------------------------------------\n",
      "         1     0.077     0.380       145        32     0.176     0.248    -0.709\n",
      "         2     0.382     0.562        20        25     0.462     0.496    -0.295\n",
      "         3     0.567     0.772        13        32     0.670     0.692    -1.140\n",
      "         4     0.773     0.925        14        71     0.857     0.860     2.841\n",
      "\n"
     ]
    },
    {
     "name": "stderr",
     "output_type": "stream",
     "text": [
      "C:\\Users\\ADStudent\\AppData\\Local\\Continuum\\anaconda3\\lib\\site-packages\\causalinference\\core\\summary.py:110: RuntimeWarning: invalid value encountered in true_divide\n",
      "  return (mean_t-mean_c) / np.sqrt((sd_c**2+sd_t**2)/2)\n"
     ]
    }
   ],
   "source": [
    "causal_model = CausalModel(\n",
    "    X=data[['Age', 'Education', 'Black', 'Hispanic', 'Married','Nodegree', 'RE74_div', 'RE75_div']].values,\n",
    "    D=data.Treated.values,\n",
    "    Y=data.RE78_div.values\n",
    ")\n",
    "causal_model.est_propensity()\n",
    "causal_model.trim_s()\n",
    "causal_model.stratify_s()\n",
    "\n",
    "print(causal_model.summary_stats)\n",
    "print(causal_model.estimates)\n",
    "print(causal_model.propensity)\n",
    "print(causal_model.strata)"
   ]
  },
  {
   "cell_type": "markdown",
   "metadata": {},
   "source": [
    "# Second data\n"
   ]
  },
  {
   "cell_type": "code",
   "execution_count": 13,
   "metadata": {
    "scrolled": true
   },
   "outputs": [
    {
     "data": {
      "text/html": [
       "<div>\n",
       "<style scoped>\n",
       "    .dataframe tbody tr th:only-of-type {\n",
       "        vertical-align: middle;\n",
       "    }\n",
       "\n",
       "    .dataframe tbody tr th {\n",
       "        vertical-align: top;\n",
       "    }\n",
       "\n",
       "    .dataframe thead th {\n",
       "        text-align: right;\n",
       "    }\n",
       "</style>\n",
       "<table border=\"1\" class=\"dataframe\">\n",
       "  <thead>\n",
       "    <tr style=\"text-align: right;\">\n",
       "      <th></th>\n",
       "      <th>Treated</th>\n",
       "      <th>Age</th>\n",
       "      <th>Education</th>\n",
       "      <th>Black</th>\n",
       "      <th>Hispanic</th>\n",
       "      <th>Married</th>\n",
       "      <th>Nodegree</th>\n",
       "      <th>RE74</th>\n",
       "      <th>RE75</th>\n",
       "      <th>RE78</th>\n",
       "    </tr>\n",
       "  </thead>\n",
       "  <tbody>\n",
       "    <tr>\n",
       "      <th>0</th>\n",
       "      <td>1.0</td>\n",
       "      <td>37.0</td>\n",
       "      <td>11.0</td>\n",
       "      <td>1.0</td>\n",
       "      <td>0.0</td>\n",
       "      <td>1.0</td>\n",
       "      <td>1.0</td>\n",
       "      <td>0.0</td>\n",
       "      <td>0.0</td>\n",
       "      <td>9930.0460</td>\n",
       "    </tr>\n",
       "    <tr>\n",
       "      <th>1</th>\n",
       "      <td>1.0</td>\n",
       "      <td>22.0</td>\n",
       "      <td>9.0</td>\n",
       "      <td>0.0</td>\n",
       "      <td>1.0</td>\n",
       "      <td>0.0</td>\n",
       "      <td>1.0</td>\n",
       "      <td>0.0</td>\n",
       "      <td>0.0</td>\n",
       "      <td>3595.8940</td>\n",
       "    </tr>\n",
       "    <tr>\n",
       "      <th>2</th>\n",
       "      <td>1.0</td>\n",
       "      <td>30.0</td>\n",
       "      <td>12.0</td>\n",
       "      <td>1.0</td>\n",
       "      <td>0.0</td>\n",
       "      <td>0.0</td>\n",
       "      <td>0.0</td>\n",
       "      <td>0.0</td>\n",
       "      <td>0.0</td>\n",
       "      <td>24909.4500</td>\n",
       "    </tr>\n",
       "    <tr>\n",
       "      <th>3</th>\n",
       "      <td>1.0</td>\n",
       "      <td>27.0</td>\n",
       "      <td>11.0</td>\n",
       "      <td>1.0</td>\n",
       "      <td>0.0</td>\n",
       "      <td>0.0</td>\n",
       "      <td>1.0</td>\n",
       "      <td>0.0</td>\n",
       "      <td>0.0</td>\n",
       "      <td>7506.1460</td>\n",
       "    </tr>\n",
       "    <tr>\n",
       "      <th>4</th>\n",
       "      <td>1.0</td>\n",
       "      <td>33.0</td>\n",
       "      <td>8.0</td>\n",
       "      <td>1.0</td>\n",
       "      <td>0.0</td>\n",
       "      <td>0.0</td>\n",
       "      <td>1.0</td>\n",
       "      <td>0.0</td>\n",
       "      <td>0.0</td>\n",
       "      <td>289.7899</td>\n",
       "    </tr>\n",
       "  </tbody>\n",
       "</table>\n",
       "</div>"
      ],
      "text/plain": [
       "   Treated   Age  Education  Black  Hispanic  Married  Nodegree  RE74  RE75  \\\n",
       "0      1.0  37.0       11.0    1.0       0.0      1.0       1.0   0.0   0.0   \n",
       "1      1.0  22.0        9.0    0.0       1.0      0.0       1.0   0.0   0.0   \n",
       "2      1.0  30.0       12.0    1.0       0.0      0.0       0.0   0.0   0.0   \n",
       "3      1.0  27.0       11.0    1.0       0.0      0.0       1.0   0.0   0.0   \n",
       "4      1.0  33.0        8.0    1.0       0.0      0.0       1.0   0.0   0.0   \n",
       "\n",
       "         RE78  \n",
       "0   9930.0460  \n",
       "1   3595.8940  \n",
       "2  24909.4500  \n",
       "3   7506.1460  \n",
       "4    289.7899  "
      ]
     },
     "execution_count": 13,
     "metadata": {},
     "output_type": "execute_result"
    }
   ],
   "source": [
    "names = ['Treated', 'Age', 'Education', 'Black', 'Hispanic', 'Married',\n",
    "         'Nodegree', 'RE74', 'RE75', 'RE78']\n",
    "treated = pd.read_table('nswre74_treated.txt', sep = '\\s+',\n",
    "                        header = None, names = names)\n",
    "control = pd.read_table('cps.txt', sep='\\s+', \n",
    "                        header = None, names = names)\n",
    "data = pd.concat([treated, control])\n",
    "data.head()"
   ]
  },
  {
   "cell_type": "code",
   "execution_count": 14,
   "metadata": {},
   "outputs": [
    {
     "data": {
      "text/plain": [
       "<matplotlib.axes._subplots.AxesSubplot at 0x1f63eff02e8>"
      ]
     },
     "execution_count": 14,
     "metadata": {},
     "output_type": "execute_result"
    },
    {
     "data": {
      "image/png": "[encoded data removed]",
      "text/plain": [
       "<matplotlib.figure.Figure at 0x1f63f023fd0>"
      ]
     },
     "metadata": {},
     "output_type": "display_data"
    }
   ],
   "source": [
    "data[['RE74_div', 'RE75_div', 'RE78_div']] = data[['RE74', 'RE75', 'RE78']] / 1000\n",
    "\n",
    "\n",
    "sns.kdeplot(data[data.Treated == 0].RE78_div, label='Control')\n",
    "sns.kdeplot(data[data.Treated == 1].RE78_div, label='Treatment')"
   ]
  },
  {
   "cell_type": "code",
   "execution_count": 15,
   "metadata": {},
   "outputs": [
    {
     "data": {
      "image/png": "[encoded data removed]",
      "text/plain": [
       "<matplotlib.figure.Figure at 0x1f63eff24a8>"
      ]
     },
     "metadata": {},
     "output_type": "display_data"
    }
   ],
   "source": [
    "plt.hist(data[data.Treated == 0].RE78_div, label='Control', bins=50);\n",
    "plt.hist(data[data.Treated == 1].RE78_div, label='Treatment', bins=50);\n",
    "plt.legend();"
   ]
  },
  {
   "cell_type": "code",
   "execution_count": 16,
   "metadata": {},
   "outputs": [
    {
     "name": "stdout",
     "output_type": "stream",
     "text": [
      "\n",
      "Summary Statistics\n",
      "\n",
      "                       Controls (N_c=385)         Treated (N_t=149)             \n",
      "       Variable         Mean         S.d.         Mean         S.d.     Raw-diff\n",
      "--------------------------------------------------------------------------------\n",
      "              Y        4.643        6.283        5.849        7.859        1.206\n",
      "\n",
      "                       Controls (N_c=385)         Treated (N_t=149)             \n",
      "       Variable         Mean         S.d.         Mean         S.d.     Nor-diff\n",
      "--------------------------------------------------------------------------------\n",
      "             X0       28.452       11.604       25.752        7.343       -0.278\n",
      "             X1       10.777        2.943       10.275        2.059       -0.197\n",
      "             X2        1.000        0.000        1.000        0.000          nan\n",
      "             X3        0.000        0.000        0.000        0.000          nan\n",
      "             X4        0.314        0.465        0.154        0.363       -0.384\n",
      "             X5        0.527        0.500        0.738        0.441        0.448\n",
      "             X6        2.297        3.550        1.481        3.728       -0.224\n",
      "             X7        1.357        2.033        0.956        1.721       -0.213\n",
      "\n",
      "\n",
      "\n",
      "Estimated Parameters of Propensity Score\n",
      "\n",
      "                    Coef.       S.e.          z      P>|z|      [95% Conf. int.]\n",
      "--------------------------------------------------------------------------------\n",
      "     Intercept     -5.605      0.780     -7.187      0.000     -7.134     -4.076\n",
      "            X0     -0.004      0.010     -0.386      0.700     -0.023      0.015\n",
      "            X1      0.035      0.047      0.737      0.461     -0.057      0.127\n",
      "            X2      4.207      0.258     16.315      0.000      3.701      4.712\n",
      "            X3      1.794      0.391      4.589      0.000      1.027      2.560\n",
      "            X4     -0.990      0.235     -4.219      0.000     -1.450     -0.530\n",
      "            X5      1.036      0.264      3.923      0.000      0.518      1.553\n",
      "            X6     -0.029      0.027     -1.078      0.281     -0.082      0.024\n",
      "            X7     -0.212      0.036     -5.897      0.000     -0.282     -0.141\n",
      "\n",
      "\n",
      "Stratification Summary\n",
      "\n",
      "              Propensity Score         Sample Size     Ave. Propensity   Outcome\n",
      "   Stratum      Min.      Max.  Controls   Treated  Controls   Treated  Raw-diff\n",
      "--------------------------------------------------------------------------------\n",
      "         1     0.086     0.138       123        12     0.109     0.110    -0.029\n",
      "         2     0.142     0.249       105        28     0.207     0.207     1.723\n",
      "         3     0.249     0.488       157       109     0.378     0.387     1.373\n",
      "\n"
     ]
    },
    {
     "name": "stderr",
     "output_type": "stream",
     "text": [
      "C:\\Users\\ADStudent\\AppData\\Local\\Continuum\\anaconda3\\lib\\site-packages\\causalinference\\core\\summary.py:110: RuntimeWarning: invalid value encountered in true_divide\n",
      "  return (mean_t-mean_c) / np.sqrt((sd_c**2+sd_t**2)/2)\n"
     ]
    }
   ],
   "source": [
    "causal_model = CausalModel(\n",
    "    X=data[['Age', 'Education', 'Black', 'Hispanic', 'Married','Nodegree', 'RE74_div', 'RE75_div']].values,\n",
    "    D=data.Treated.values,\n",
    "    Y=data.RE78_div.values\n",
    ")\n",
    "causal_model.est_propensity()\n",
    "causal_model.trim_s()\n",
    "causal_model.stratify_s()\n",
    "\n",
    "print(causal_model.summary_stats)\n",
    "print(causal_model.estimates)\n",
    "print(causal_model.propensity)\n",
    "print(causal_model.strata)"
   ]
  }
 ],
 "metadata": {
  "kernelspec": {
   "display_name": "Python 2",
   "language": "python",
   "name": "python2"
  },
  "language_info": {
   "codemirror_mode": {
    "name": "ipython",
    "version": 2
   },
   "file_extension": ".py",
   "mimetype": "text/x-python",
   "name": "python",
   "nbconvert_exporter": "python",
   "pygments_lexer": "ipython2",
   "version": "2.7.13"
  }
 },
 "nbformat": 4,
 "nbformat_minor": 2
}
